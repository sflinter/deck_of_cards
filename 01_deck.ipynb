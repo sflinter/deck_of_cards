{
 "cells": [
  {
   "cell_type": "code",
   "execution_count": 1,
   "id": "3eb395bc",
   "metadata": {},
   "outputs": [],
   "source": [
    "# default_exp deck\n",
    "from nbdev import *"
   ]
  },
  {
   "cell_type": "markdown",
   "id": "acb40d31",
   "metadata": {},
   "source": [
    "# Deck\n",
    "\n",
    "> API for Deck"
   ]
  },
  {
   "cell_type": "code",
   "execution_count": 2,
   "id": "a67bb49e",
   "metadata": {},
   "outputs": [],
   "source": [
    "#export\n",
    "from deck_of_cards_new.card import Card"
   ]
  },
  {
   "cell_type": "code",
   "execution_count": 3,
   "id": "c0b0f4b0",
   "metadata": {},
   "outputs": [],
   "source": [
    "#export\n",
    "class Deck:\n",
    "    \"\"\"Represents a deck of cards.\n",
    "    Attributes:\n",
    "      cards: list of Card objects.\n",
    "    \"\"\"\n",
    "    \n",
    "    def __init__(self):\n",
    "        \"\"\"Initializes the Deck with 52 cards.\n",
    "        \"\"\"\n",
    "        self.cards = []\n",
    "        for suit in range(4):\n",
    "            for rank in range(1, 14):\n",
    "                card = Card(suit, rank)\n",
    "                self.cards.append(card)\n",
    "\n",
    "    def __str__(self):\n",
    "        \"\"\"Returns a string representation of the deck.\n",
    "        \"\"\"\n",
    "        res = []\n",
    "        for card in self.cards:\n",
    "            res.append(str(card))\n",
    "        return '\\n'.join(res)\n",
    "\n",
    "    def add_card(self, card):\n",
    "        \"\"\"Adds a card to the deck.\n",
    "        card: Card\n",
    "        \"\"\"\n",
    "        self.cards.append(card)\n",
    "\n",
    "    def remove_card(self, card):\n",
    "        \"\"\"Removes a card from the deck or raises exception if it is not there.\n",
    "        \n",
    "        card: Card\n",
    "        \"\"\"\n",
    "        self.cards.remove(card)\n",
    "\n",
    "    def pop_card(self, i=-1):\n",
    "        \"\"\"Removes and returns a card from the deck.\n",
    "        i: index of the card to pop; by default, pops the last card.\n",
    "        \"\"\"\n",
    "        return self.cards.pop(i)\n",
    "\n",
    "    def shuffle(self):\n",
    "        \"\"\"Shuffles the cards in this deck.\"\"\"\n",
    "        random.shuffle(self.cards)\n",
    "\n",
    "    def sort(self):\n",
    "        \"\"\"Sorts the cards in ascending order.\"\"\"\n",
    "        self.cards.sort()\n",
    "\n",
    "    def move_cards(self, hand, num):\n",
    "        \"\"\"Moves the given number of cards from the deck into the Hand.\n",
    "        hand: destination Hand object\n",
    "        num: integer number of cards to move\n",
    "        \"\"\"\n",
    "        for i in range(num):\n",
    "            hand.add_card(self.pop_card())"
   ]
  },
  {
   "cell_type": "markdown",
   "id": "3b50ce3d",
   "metadata": {},
   "source": [
    "A `Deck` of cards is a collection of `Card` objects"
   ]
  },
  {
   "cell_type": "code",
   "execution_count": 8,
   "id": "2cf80524",
   "metadata": {},
   "outputs": [],
   "source": [
    "deck = Deck()\n",
    "assert isinstance(deck.pop_card(), Card)"
   ]
  },
  {
   "cell_type": "code",
   "execution_count": 9,
   "id": "cbf00cc2",
   "metadata": {},
   "outputs": [
    {
     "data": {
      "text/markdown": [
       "<h4 id=\"Deck.remove_card\" class=\"doc_header\"><code>Deck.remove_card</code><a href=\"__main__.py#L31\" class=\"source_link\" style=\"float:right\">[source]</a></h4>\n",
       "\n",
       "> <code>Deck.remove_card</code>(**`card`**)\n",
       "\n",
       "Removes a card from the deck or raises exception if it is not there.\n",
       "\n",
       "card: Card"
      ],
      "text/plain": [
       "<IPython.core.display.Markdown object>"
      ]
     },
     "metadata": {},
     "output_type": "display_data"
    }
   ],
   "source": [
    "show_doc(Deck.remove_card)"
   ]
  },
  {
   "cell_type": "markdown",
   "id": "307136c9",
   "metadata": {},
   "source": [
    "If we remove a card from a deck, we can verify that it no longer exists."
   ]
  },
  {
   "cell_type": "code",
   "execution_count": 10,
   "id": "28c8fb30",
   "metadata": {},
   "outputs": [],
   "source": [
    "card23 = Card(2, 3)\n",
    "deck.remove_card(card23)\n",
    "\n",
    "assert card23 not in deck.cards"
   ]
  },
  {
   "cell_type": "markdown",
   "id": "c381cffc",
   "metadata": {},
   "source": [
    "However, another card that we haven't removed, such as the `10 of hearts` will still be in the `Deck` of cards, because we haven't removed it."
   ]
  },
  {
   "cell_type": "code",
   "execution_count": 12,
   "id": "c31a05e5",
   "metadata": {},
   "outputs": [
    {
     "data": {
      "text/plain": [
       "'10 of Hearts'"
      ]
     },
     "execution_count": 12,
     "metadata": {},
     "output_type": "execute_result"
    }
   ],
   "source": [
    "c = Card(2, 10)\n",
    "assert c in deck.cards\n",
    "str(c)"
   ]
  },
  {
   "cell_type": "code",
   "execution_count": null,
   "id": "c87417be",
   "metadata": {},
   "outputs": [],
   "source": []
  }
 ],
 "metadata": {
  "kernelspec": {
   "display_name": "Python 3",
   "language": "python",
   "name": "python3"
  },
  "language_info": {
   "codemirror_mode": {
    "name": "ipython",
    "version": 3
   },
   "file_extension": ".py",
   "mimetype": "text/x-python",
   "name": "python",
   "nbconvert_exporter": "python",
   "pygments_lexer": "ipython3",
   "version": "3.8.8"
  }
 },
 "nbformat": 4,
 "nbformat_minor": 5
}
